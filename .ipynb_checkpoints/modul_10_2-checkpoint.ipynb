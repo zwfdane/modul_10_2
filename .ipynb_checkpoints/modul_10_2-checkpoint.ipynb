{
 "cells": [
  {
   "cell_type": "raw",
   "id": "6baed19b",
   "metadata": {},
   "source": [
    "Stwórz dane z rozkładu normalnego o średniej 3 i odchyleniu standardowym 1 dla 100 oraz 10 000. Na podstawie tych sztucznie stworzonych zbiorów oblicz statystyki poznane w module statystki opisowej. Opisz różnice pomiędzy statystkami i wynik swojej pracy wyślij Mentorowi jako Jupyter Noteboook zapisany w Github."
   ]
  },
  {
   "cell_type": "code",
   "execution_count": 38,
   "id": "ed8f67ae",
   "metadata": {},
   "outputs": [],
   "source": [
    "import random\n",
    "import numpy as np\n",
    "import matplotlib.pyplot as plt\n",
    "from scipy import stats\n",
    "\n",
    "normal_data_100 = np.random.default_rng(1).normal(loc=3.0, scale=1.0, size=100) \n",
    "normal_data_10000 = np.random.default_rng(1).normal(loc=3.0, scale=1.0, size=10000)\n"
   ]
  },
  {
   "cell_type": "code",
   "execution_count": 28,
   "id": "697c6a0e",
   "metadata": {},
   "outputs": [],
   "source": [
    "# Obliczamy średnie\n",
    "mean_100 = np.round(np.mean(normal_data_100))\n",
    "mean_10000 = np.round(np.mean(normal_data_10000))"
   ]
  },
  {
   "cell_type": "code",
   "execution_count": 29,
   "id": "07c7953f",
   "metadata": {},
   "outputs": [],
   "source": [
    "# Obliczamy mediany\n",
    "median_100 = np.median(normal_data_100)\n",
    "median_10000 = np.median(normal_data_10000)"
   ]
  },
  {
   "cell_type": "code",
   "execution_count": 39,
   "id": "fc766044",
   "metadata": {},
   "outputs": [],
   "source": [
    "# Obliczamy mody\n",
    "mode_100 = stats.mode(normal_data_100)\n",
    "mode_10000 = stats.mode(normal_data_10000)"
   ]
  },
  {
   "cell_type": "code",
   "execution_count": 31,
   "id": "6881db42",
   "metadata": {},
   "outputs": [
    {
     "name": "stdout",
     "output_type": "stream",
     "text": [
      "Q0: 0.2888375210340315\n",
      "Q1: 2.0\n",
      "Q2: 3.0307111726499283\n",
      "Q3: 3.0\n",
      "Q4: 5.0\n"
     ]
    }
   ],
   "source": [
    "# Obliczamy kwantyle dla próbki 100 elementowej\n",
    "q0 = np.quantile(normal_data_100, 0.0)\n",
    "q1 = np.round(np.quantile(normal_data_100, 0.25))\n",
    "q3 = np.round(np.quantile(normal_data_100, 0.75))\n",
    "q4 = np.round(np.quantile(normal_data_100, 1.0))\n",
    "print(f'Q0: {q0}')\n",
    "print(f'Q1: {q1}')\n",
    "print(f'Q2: {median_100}')\n",
    "print(f'Q3: {q3}')\n",
    "print(f'Q4: {q4}')"
   ]
  },
  {
   "cell_type": "code",
   "execution_count": null,
   "id": "ed3b177a",
   "metadata": {},
   "outputs": [],
   "source": []
  },
  {
   "cell_type": "code",
   "execution_count": 40,
   "id": "7d8637b3",
   "metadata": {},
   "outputs": [
    {
     "data": {
      "image/png": "[encoded data removed]",
      "text/plain": [
       "<Figure size 432x288 with 1 Axes>"
      ]
     },
     "metadata": {
      "needs_background": "light"
     },
     "output_type": "display_data"
    }
   ],
   "source": [
    "# Histogram dla próbki 100 elementowej\n",
    "plt.hist(normal_data_100, bins=20)\n",
    "plt.axvline(x = mean_100, color='red', label = 'Średnia')\n",
    "plt.axvline(x = median_100, color='green', label = 'Mediana')\n",
    "plt.axvline(x = mode_100[0], color='orange', label = 'Moda')\n",
    "plt.axvline(x = q0, color='black', label = 'Min')\n",
    "plt.axvline(x = q1, color='black', label = 'Q1')\n",
    "plt.axvline(x = q3, color='black', label = 'Q3')\n",
    "plt.axvline(x = q4, color='black', label = 'Max')\n",
    "plt.legend(loc='upper right')\n",
    "plt.show()"
   ]
  },
  {
   "cell_type": "code",
   "execution_count": 41,
   "id": "85ce9041",
   "metadata": {},
   "outputs": [
    {
     "name": "stdout",
     "output_type": "stream",
     "text": [
      "Q0: -0.8378621427178974\n",
      "Q1: 2.0\n",
      "Q2: 2.990582129120199\n",
      "Q3: 4.0\n",
      "Q4: 7.0\n"
     ]
    }
   ],
   "source": [
    "# Obliczamy kwantyle dla próbki 10 000 elementowej\n",
    "q0 = np.quantile(normal_data_10000, 0.0)\n",
    "q1 = np.round(np.quantile(normal_data_10000, 0.25))\n",
    "q3 = np.round(np.quantile(normal_data_10000, 0.75))\n",
    "q4 = np.round(np.quantile(normal_data_10000, 1.0))\n",
    "print(f'Q0: {q0}')\n",
    "print(f'Q1: {q1}')\n",
    "print(f'Q2: {median_10000}')\n",
    "print(f'Q3: {q3}')\n",
    "print(f'Q4: {q4}')"
   ]
  },
  {
   "cell_type": "code",
   "execution_count": 42,
   "id": "27d66a7d",
   "metadata": {},
   "outputs": [
    {
     "data": {
      "image/png": "[encoded data removed]",
      "text/plain": [
       "<Figure size 432x288 with 1 Axes>"
      ]
     },
     "metadata": {
      "needs_background": "light"
     },
     "output_type": "display_data"
    }
   ],
   "source": [
    "# Histogram dla próbki 10 000 elementowej\n",
    "plt.hist(normal_data_10000, bins=20)\n",
    "plt.axvline(x = mean_10000, color='red', label = 'Średnia')\n",
    "plt.axvline(x = median_10000, color='green', label = 'Mediana')\n",
    "plt.axvline(x = mode_10000[0], color='orange', label = 'Moda')\n",
    "plt.axvline(x = q0, color='black', label = 'Min')\n",
    "plt.axvline(x = q1, color='black', label = 'Q1')\n",
    "plt.axvline(x = q3, color='black', label = 'Q3')\n",
    "plt.axvline(x = q4, color='black', label = 'Max')\n",
    "plt.legend(loc='upper right')\n",
    "plt.show()"
   ]
  },
  {
   "cell_type": "markdown",
   "id": "e1b76128",
   "metadata": {},
   "source": [
    "Zgodnie z oczekiwaniami estymatory wyznaczone na podstwie większej próbki są dokładniejsze. \n",
    "\n",
    "Gęstość rozkładu normalnego jest w powyższych przykładach symetryczna względem 3. Histogram dla bardziej licznej próbki kest symetryczny. Histogram dla próbki o liczności 100 elementów wskazuje na delikatną skośność lewostronną. \n",
    "\n",
    "Rozstęp w obu przypadkach jest porównywalny."
   ]
  }
 ],
 "metadata": {
  "kernelspec": {
   "display_name": "Python 3 (ipykernel)",
   "language": "python",
   "name": "python3"
  },
  "language_info": {
   "codemirror_mode": {
    "name": "ipython",
    "version": 3
   },
   "file_extension": ".py",
   "mimetype": "text/x-python",
   "name": "python",
   "nbconvert_exporter": "python",
   "pygments_lexer": "ipython3",
   "version": "3.9.12"
  }
 },
 "nbformat": 4,
 "nbformat_minor": 5
}
